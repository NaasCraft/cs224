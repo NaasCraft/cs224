{
 "cells": [
  {
   "cell_type": "code",
   "execution_count": 1,
   "metadata": {
    "collapsed": true
   },
   "outputs": [],
   "source": [
    "%matplotlib inline"
   ]
  },
  {
   "cell_type": "markdown",
   "metadata": {},
   "source": [
    "# CS224\n",
    "\n",
    "Thanks to Standford University NLP for providing [this course](http://cs224d.stanford.edu/).\n",
    "\n",
    "## Assignment 1\n",
    "\n",
    "### 1. Softmax\n",
    "\n",
    "__(a)__ Natural property of exponential: exp(x+c)=exp(x)exp(c).\n",
    "\n",
    "We extract the optimal constant for softmax computation."
   ]
  },
  {
   "cell_type": "code",
   "execution_count": 2,
   "metadata": {
    "collapsed": true
   },
   "outputs": [],
   "source": [
    "import numpy as np\n",
    "from time import time"
   ]
  },
  {
   "cell_type": "code",
   "execution_count": 12,
   "metadata": {
    "collapsed": true
   },
   "outputs": [],
   "source": [
    "def softmaxConst(x):\n",
    "    return -np.amax(x)"
   ]
  },
  {
   "cell_type": "markdown",
   "metadata": {},
   "source": [
    "__(b)__ For `matrix` of size __`N`__x__`d`__, we compute the softmax prediction "
   ]
  },
  {
   "cell_type": "code",
   "execution_count": 14,
   "metadata": {
    "collapsed": true
   },
   "outputs": [],
   "source": [
    "def softmax(matrix):\n",
    "    N, d = matrix.shape\n",
    "    \n",
    "    SMax = np.zeros(matrix.shape, dtype=np.float32)\n",
    "    \n",
    "    for k in xrange(0,N):\n",
    "        x = matrix[k,]\n",
    "        c = softmaxConst(x)\n",
    "        y = np.exp(x-c)\n",
    "        Sy = np.sum(y)\n",
    "        \n",
    "        for i in xrange(0,d):\n",
    "            SMax[k,i] = y[i] / Sy\n",
    "    \n",
    "    return SMax"
   ]
  },
  {
   "cell_type": "code",
   "execution_count": 11,
   "metadata": {
    "collapsed": false
   },
   "outputs": [
    {
     "name": "stdout",
     "output_type": "stream",
     "text": [
      "10\n",
      "<type 'long'>\n",
      "[0, 1, 2, 3, 4, 5, 6, 7, 8, 9]\n"
     ]
    }
   ],
   "source": [
    "test = np.zeros((10,3))\n",
    "N, d = test.shape\n",
    "\n",
    "print(N)\n",
    "print(type(N))\n",
    "print([k for k in xrange(0,N)])"
   ]
  },
  {
   "cell_type": "code",
   "execution_count": 13,
   "metadata": {
    "collapsed": false
   },
   "outputs": [
    {
     "data": {
      "text/plain": [
       "array([-1., -1., -1.])"
      ]
     },
     "execution_count": 13,
     "metadata": {},
     "output_type": "execute_result"
    }
   ],
   "source": [
    "test = np.zeros(3)\n",
    "test - 1"
   ]
  },
  {
   "cell_type": "code",
   "execution_count": null,
   "metadata": {
    "collapsed": true
   },
   "outputs": [],
   "source": []
  }
 ],
 "metadata": {
  "kernelspec": {
   "display_name": "Python 2",
   "language": "python",
   "name": "python2"
  },
  "language_info": {
   "codemirror_mode": {
    "name": "ipython",
    "version": 2
   },
   "file_extension": ".py",
   "mimetype": "text/x-python",
   "name": "python",
   "nbconvert_exporter": "python",
   "pygments_lexer": "ipython2",
   "version": "2.7.11"
  }
 },
 "nbformat": 4,
 "nbformat_minor": 0
}
