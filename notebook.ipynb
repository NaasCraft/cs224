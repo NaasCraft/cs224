{
 "cells": [
  {
   "cell_type": "code",
   "execution_count": 1,
   "metadata": {
    "collapsed": true
   },
   "outputs": [],
   "source": [
    "%matplotlib inline"
   ]
  },
  {
   "cell_type": "markdown",
   "metadata": {},
   "source": [
    "# CS224\n",
    "\n",
    "Thanks to Standford University NLP for providing [this course](http://cs224d.stanford.edu/).\n",
    "\n",
    "## Assignment 1\n",
    "\n",
    "### 1. Softmax\n",
    "\n",
    "__(a)__ Natural property of exponential: exp(x+c)=exp(x)exp(c).\n",
    "\n",
    "We extract the optimal constant for softmax computation."
   ]
  },
  {
   "cell_type": "code",
   "execution_count": 2,
   "metadata": {
    "collapsed": true
   },
   "outputs": [],
   "source": [
    "import numpy as np\n",
    "from time import time"
   ]
  },
  {
   "cell_type": "code",
   "execution_count": 12,
   "metadata": {
    "collapsed": true
   },
   "outputs": [],
   "source": [
    "def softmaxConst(x):\n",
    "    return -np.amax(x)"
   ]
  },
  {
   "cell_type": "markdown",
   "metadata": {},
   "source": [
    "__(b)__ For `matrix` of size __`N`__x__`d`__, we compute the softmax prediction "
   ]
  },
  {
   "cell_type": "code",
   "execution_count": 14,
   "metadata": {
    "collapsed": true
   },
   "outputs": [],
   "source": [
    "def softmax(matrix):\n",
    "    N, d = matrix.shape\n",
    "    \n",
    "    SMax = np.zeros(matrix.shape, dtype=np.float32)\n",
    "    \n",
    "    for k in xrange(0,N):\n",
    "        x = matrix[k,]\n",
    "        c = softmaxConst(x)\n",
    "        y = np.exp(x-c)\n",
    "        Sy = np.sum(y)\n",
    "        \n",
    "        for i in xrange(0,d):\n",
    "            SMax[k,i] = y[i] / Sy\n",
    "    \n",
    "    return SMax"
   ]
  },
  {
   "cell_type": "markdown",
   "metadata": {
    "collapsed": true
   },
   "source": [
    "### 2. Neural Network Basics\n",
    "\n",
    "__(a)__ Since we have :\n",
    "\n",
    "![derive](https://raw.githubusercontent.com/NaasCraft/cs224/master/img/ass1_2a_1.png)\n",
    "\n",
    "We conclude :\n",
    "\n",
    "![simplify](https://raw.githubusercontent.com/NaasCraft/cs224/master/img/ass1_2a_2.png)\n",
    "\n",
    "__(b)__ Gradient components for y softmax prediction (with k different from i):\n",
    "\n",
    "![gradient_i](https://raw.githubusercontent.com/NaasCraft/cs224/master/img/ass1_2b_1.png)\n",
    "\n",
    "![gradient_k](https://raw.githubusercontent.com/NaasCraft/cs224/master/img/ass1_2b_2.png)\n",
    "\n",
    "Hence, for the cross-entropy loss function, assuming that the real y is the one hot vector for index k:\n",
    "![ce_gradient](https://raw.githubusercontent.com/NaasCraft/cs224/master/img/ass1_2b_3.png)\n",
    "\n",
    "![full_gradient](https://raw.githubusercontent.com/NaasCraft/cs224/master/img/ass1_2b_4.png)"
   ]
  },
  {
   "cell_type": "markdown",
   "metadata": {},
   "source": [
    "__(c)__"
   ]
  },
  {
   "cell_type": "code",
   "execution_count": null,
   "metadata": {
    "collapsed": true
   },
   "outputs": [],
   "source": []
  }
 ],
 "metadata": {
  "kernelspec": {
   "display_name": "Python 2",
   "language": "python",
   "name": "python2"
  },
  "language_info": {
   "codemirror_mode": {
    "name": "ipython",
    "version": 2
   },
   "file_extension": ".py",
   "mimetype": "text/x-python",
   "name": "python",
   "nbconvert_exporter": "python",
   "pygments_lexer": "ipython2",
   "version": "2.7.11"
  }
 },
 "nbformat": 4,
 "nbformat_minor": 0
}
